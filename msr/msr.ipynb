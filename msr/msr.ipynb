{
 "cells": [
  {
   "cell_type": "code",
   "execution_count": null,
   "metadata": {},
   "outputs": [],
   "source": [
    "import sys\n",
    "sys.path.append('..')\n",
    "import numpy as np\n",
    "import math\n",
    "import matplotlib.pylab as plt\n",
    "import rti_msr_utils as rti\n",
    "import heapq\n"
   ]
  },
  {
   "cell_type": "code",
   "execution_count": null,
   "metadata": {},
   "outputs": [],
   "source": [
    "num_CIR_samples = 50  # number of logged CIR samples\n",
    "CIR_samp_period = 1/(2*(4*124.8e6))  # (s) sampling period for CIR measurement\n",
    "anchor_UWB_Ids = [0, 1, 2, 3, 4]  # device Ids\n",
    "SpeedofLight = 299792458  # (m/s) speed of light"
   ]
  },
  {
   "cell_type": "code",
   "execution_count": null,
   "metadata": {},
   "outputs": [],
   "source": [
    "anchor_pair_list = []\n",
    "for i in range(0,5):\n",
    "    for j in range(i+1,5):\n",
    "        anchor_pair_list.append((i,j))"
   ]
  },
  {
   "cell_type": "markdown",
   "metadata": {},
   "source": [
    "![image](..\\pic\\room1.png)"
   ]
  },
  {
   "cell_type": "code",
   "execution_count": null,
   "metadata": {},
   "outputs": [],
   "source": [
    "# room 1\n",
    "pos = [(2.28,0.9),(0,1.55),(5.09,6.52),(5.09,2.2),(0.2,5.69)]\n",
    "room_length = 5.09\n",
    "room_width = 10.02\n",
    "rel_x = 1.25\n",
    "rel_y = 1.98\n",
    "# x_monitored = 2.45\n",
    "# y_monitored = 4.40\n",
    "x_monitored = room_length\n",
    "y_monitored = room_width"
   ]
  },
  {
   "cell_type": "code",
   "execution_count": null,
   "metadata": {},
   "outputs": [],
   "source": [
    "file_path = \"../../data/uwb2/uwb2_exp001.csv\"\n",
    "uwb2_exp001, cir, tx_id_uwb, rx_id_uwb, rx_pream_count, fp, rx_lvl, time_stamp, ground_x, ground_y = rti.load_csv_data(file_path, num_CIR_samples)\n",
    "\n",
    "cir_up = rti.upsample_and_align_cir(cir, fp, freq_s_ratio=64)\n",
    "grouped_data = rti.group_data_by_tx_rx(tx_id_uwb, rx_id_uwb, cir, cir_up, rx_pream_count, fp, rx_lvl, time_stamp, ground_x, ground_y)\n"
   ]
  },
  {
   "cell_type": "code",
   "execution_count": null,
   "metadata": {},
   "outputs": [],
   "source": [
    "# Constants\n",
    "ALPHA_H = 0.05\n",
    "BETA_B = 0.001\n",
    "BETA_C = 0.1\n",
    "MAX_COUNT = 1000\n",
    "AMPLIFY = 1.3\n",
    "WINDOW_SIZE = 8\n",
    "SEGMENT_THRESHOLD = 5"
   ]
  },
  {
   "cell_type": "code",
   "execution_count": null,
   "metadata": {},
   "outputs": [],
   "source": [
    "min_heap = []\n",
    "for anchor_pair, data in grouped_data.items():\n",
    "    data['h'] = None\n",
    "    data['var_b'] = None\n",
    "    data['var_c'] = None\n",
    "    for i, time_stamp in enumerate(data['time_stamp']):\n",
    "        heapq.heappush(min_heap, (time_stamp, anchor_pair, i))\n"
   ]
  },
  {
   "cell_type": "code",
   "execution_count": null,
   "metadata": {},
   "outputs": [],
   "source": [
    "\n",
    "# Process the heap\n",
    "count = 0\n",
    "while min_heap:\n",
    "    # Exit if reached MAX_COUNT\n",
    "    if count == MAX_COUNT:\n",
    "        break\n",
    "\n",
    "    # Pop the smallest time_stamp item\n",
    "    smallest_time, anchor_pair, index = heapq.heappop(min_heap)\n",
    "\n",
    "    # Print current state (for debugging)\n",
    "    print(f\"Processing anchor pair {anchor_pair} with time stamp {smallest_time} at index {index}\")\n",
    "    print(f\"Item data: {grouped_data[anchor_pair]}\")\n",
    "\n",
    "    # Update count\n",
    "    count += 1\n",
    "\n",
    "    # Extract and update variables\n",
    "    z = grouped_data[anchor_pair]['cir_up'][index]\n",
    "    if grouped_data[anchor_pair]['h'] is None:\n",
    "        grouped_data[anchor_pair]['h'] = z\n",
    "        continue\n",
    "\n",
    "    h = grouped_data[anchor_pair]['h'] = grouped_data[anchor_pair]['h'] * (1 - ALPHA_H) + z * ALPHA_H\n",
    "    if grouped_data[anchor_pair]['var_b'] is None:\n",
    "        delta = np.abs(z - h)\n",
    "        grouped_data[anchor_pair]['var_b'] = delta\n",
    "        grouped_data[anchor_pair]['var_c'] = delta\n",
    "    else:\n",
    "        grouped_data[anchor_pair]['var_b'] = grouped_data[anchor_pair]['var_b'] * (1 - BETA_B) + np.abs(z - h) * BETA_B\n",
    "        grouped_data[anchor_pair]['var_c'] = grouped_data[anchor_pair]['var_c'] * (1 - BETA_C) + np.abs(z - h) * BETA_C    \n",
    "\n",
    "    # Extract and preprocess data\n",
    "    variance = grouped_data[anchor_pair]['var_c'] - AMPLIFY * grouped_data[anchor_pair]['var_b']\n",
    "    data_length = len(variance)\n",
    "\n",
    "    # Initialize position marker\n",
    "    position_marker = -1  # Position where the condition is met\n",
    "\n",
    "    # Define loop limit to avoid redundant calculations\n",
    "    loop_limit = data_length - WINDOW_SIZE + 1\n",
    "\n",
    "    # Search for the position where the condition is met\n",
    "    for j in range(data_length):\n",
    "        # Skip negative variance values\n",
    "        if variance[j] < 0:\n",
    "            continue\n",
    "\n",
    "        # Avoid going out of bounds\n",
    "        if j >= loop_limit:\n",
    "            break\n",
    "\n",
    "        # Calculate sum of the window and check against threshold\n",
    "        window_sum = sum(variance[j:j + WINDOW_SIZE])\n",
    "        if window_sum >= SEGMENT_THRESHOLD:\n",
    "            position_marker = j\n",
    "            break\n",
    "\n",
    "    # Position marker now holds the first position where the condition is met or -1 if it's not met\n",
    "print(\"Done!\")"
   ]
  },
  {
   "cell_type": "code",
   "execution_count": null,
   "metadata": {},
   "outputs": [],
   "source": [
    "grouped_data[anchor_pair]['var_b']"
   ]
  },
  {
   "cell_type": "code",
   "execution_count": null,
   "metadata": {},
   "outputs": [],
   "source": [
    "plt.plot(grouped_data[anchor_pair]['var_b'])\n",
    "plt.plot(grouped_data[anchor_pair]['var_c'])\n",
    "\n",
    "variance = grouped_data[anchor_pair]['var_c'] - 1.3*grouped_data[anchor_pair]['var_b']\n",
    "plt.plot(variance)"
   ]
  },
  {
   "cell_type": "code",
   "execution_count": null,
   "metadata": {},
   "outputs": [],
   "source": []
  }
 ],
 "metadata": {
  "kernelspec": {
   "display_name": "ipl",
   "language": "python",
   "name": "python3"
  },
  "language_info": {
   "codemirror_mode": {
    "name": "ipython",
    "version": 3
   },
   "file_extension": ".py",
   "mimetype": "text/x-python",
   "name": "python",
   "nbconvert_exporter": "python",
   "pygments_lexer": "ipython3",
   "version": "3.11.4"
  },
  "orig_nbformat": 4
 },
 "nbformat": 4,
 "nbformat_minor": 2
}
