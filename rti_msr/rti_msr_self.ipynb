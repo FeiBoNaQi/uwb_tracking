{
 "cells": [
  {
   "cell_type": "code",
   "execution_count": null,
   "metadata": {},
   "outputs": [],
   "source": [
    "import sys\n",
    "sys.path.append('..')\n",
    "import numpy as np\n",
    "import math\n",
    "import matplotlib.pylab as plt\n",
    "import rti_msr_utils as rti\n",
    "\n"
   ]
  },
  {
   "cell_type": "code",
   "execution_count": null,
   "metadata": {},
   "outputs": [],
   "source": [
    "num_CIR_samples = 50  # number of logged CIR samples\n",
    "CIR_samp_period = 1/(2*(4*124.8e6))  # (s) sampling period for CIR measurement\n",
    "anchor_UWB_Ids = [0, 1, 2, 3, 4]  # device Ids\n",
    "SpeedofLight = 299792458  # (m/s) speed of light"
   ]
  },
  {
   "cell_type": "code",
   "execution_count": null,
   "metadata": {},
   "outputs": [],
   "source": [
    "anchor_pair_list = []\n",
    "for i in range(0,5):\n",
    "    for j in range(i+1,5):\n",
    "        anchor_pair_list.append((i,j))"
   ]
  },
  {
   "cell_type": "markdown",
   "metadata": {},
   "source": [
    "![image](..\\pic\\room1.png)"
   ]
  },
  {
   "cell_type": "code",
   "execution_count": null,
   "metadata": {},
   "outputs": [],
   "source": [
    "# room 1\n",
    "pos = [(2.28,0.9),(0,1.55),(5.09,6.52),(5.09,2.2),(0.2,5.69)]\n",
    "room_length = 5.09\n",
    "room_width = 10.02\n",
    "rel_x = 1.25\n",
    "rel_y = 1.98\n",
    "# x_monitored = 2.45\n",
    "# y_monitored = 4.40\n",
    "x_monitored = room_length\n",
    "y_monitored = room_width"
   ]
  },
  {
   "cell_type": "code",
   "execution_count": null,
   "metadata": {},
   "outputs": [],
   "source": [
    "mirrored_positions = rti.generate_mirror_pos(pos, room_length, room_width)\n",
    "print(mirrored_positions)"
   ]
  },
  {
   "cell_type": "code",
   "execution_count": null,
   "metadata": {},
   "outputs": [],
   "source": [
    "# visualize the room\n",
    "rti.visualize_room(room_length, room_width, pos, mirrored_positions, rel_x, rel_y)"
   ]
  },
  {
   "cell_type": "code",
   "execution_count": null,
   "metadata": {},
   "outputs": [],
   "source": [
    "mpc_position = rti.generate_mpc_position(anchor_pair_list,mirrored_positions)"
   ]
  },
  {
   "cell_type": "code",
   "execution_count": null,
   "metadata": {},
   "outputs": [],
   "source": [
    "# remove item in mpc_position that differ less than 0.01\n",
    "for item in mpc_position:\n",
    "    array = mpc_position[item]\n",
    "    array = np.sort(array)\n",
    "    mask = np.zeros(len(array),dtype=bool)\n",
    "    for i in range(1,len(array)):\n",
    "        if array[i] - array[i-1] < 0.01:\n",
    "            mask[i] = True\n",
    "        if array[i] > rti.maximum_distance:\n",
    "            mask[i] = True\n",
    "\n",
    "    mpc_position[item] = np.delete(array,mask)"
   ]
  },
  {
   "cell_type": "markdown",
   "metadata": {},
   "source": [
    "![image](..\\pic\\weight.png)\n",
    "\n",
    "![image](..\\pic\\parameters.png)"
   ]
  },
  {
   "cell_type": "code",
   "execution_count": null,
   "metadata": {},
   "outputs": [],
   "source": [
    "prm_lambda = 0.01 \n",
    "pixel_width = 0.1\n",
    "room_x_len = math.floor(x_monitored/pixel_width) #romm_x_len = math.floor(room_length/pixel_width)\n",
    "room_y_len = math.floor(y_monitored/pixel_width) #romm_y_len = math.floor(room_width/pixel_width)\n",
    "pixel_num_j = room_x_len * room_y_len #left bottom is origin point\n",
    "num_of_mirror = 5"
   ]
  },
  {
   "cell_type": "code",
   "execution_count": null,
   "metadata": {},
   "outputs": [],
   "source": [
    "weight_matrix = rti.generate_weight_matrix(anchor_pair_list,mpc_position,mirrored_positions,room_x_len,room_y_len,pixel_width,num_of_mirror,prm_lambda)"
   ]
  },
  {
   "cell_type": "code",
   "execution_count": null,
   "metadata": {},
   "outputs": [],
   "source": [
    "anchor_pair = (2,3) # Replace with an actual pair from your list\n",
    "distance = 2.0  # Replace with an actual distance from your mpc_position dictionary\n",
    "rti.plot_weight_matrix(weight_matrix, anchor_pair, round(mpc_position[anchor_pair][2],2), room_x_len, room_y_len)"
   ]
  },
  {
   "cell_type": "code",
   "execution_count": null,
   "metadata": {},
   "outputs": [],
   "source": [
    "regularization_matrix_c = rti.generate_regularization_matrix(room_x_len, room_y_len, pixel_width)"
   ]
  },
  {
   "cell_type": "code",
   "execution_count": null,
   "metadata": {},
   "outputs": [],
   "source": [
    "rti.plot_regularization_matrix(regularization_matrix_c)"
   ]
  },
  {
   "cell_type": "code",
   "execution_count": null,
   "metadata": {},
   "outputs": [],
   "source": [
    "file_path = \"../../data/uwb2/uwb2_exp001.csv\"\n",
    "uwb2_exp001, cir, tx_id_uwb, rx_id_uwb, rx_pream_count, fp, rx_lvl, time_stamp, ground_x, ground_y = rti.load_csv_data(file_path, num_CIR_samples)\n",
    "\n",
    "cir_up = rti.upsample_and_align_cir(cir, fp, freq_s_ratio=64)\n",
    "grouped_data = rti.group_data_by_tx_rx(tx_id_uwb, rx_id_uwb, cir, cir_up, rx_pream_count, fp, rx_lvl, time_stamp, ground_x, ground_y)\n"
   ]
  },
  {
   "cell_type": "code",
   "execution_count": null,
   "metadata": {},
   "outputs": [],
   "source": [
    "anchor_pair = anchor_pair_list[9]\n",
    "rti.plot_cir_lines_with_mpc(grouped_data[anchor_pair][\"cir_up\"], anchor_pair, mpc_position, 0, 10)"
   ]
  },
  {
   "cell_type": "code",
   "execution_count": null,
   "metadata": {},
   "outputs": [],
   "source": [
    "mpc_mag_idle = {}\n",
    "for anchor_pair in anchor_pair_list:\n",
    "    mpc_mag_idle[anchor_pair] = rti.cal_mag_multipath_component(anchor_pair, mpc_position, grouped_data, \n",
    "                                0, len(grouped_data[anchor_pair][\"cir_up\"]), 64)"
   ]
  },
  {
   "cell_type": "code",
   "execution_count": null,
   "metadata": {},
   "outputs": [],
   "source": []
  },
  {
   "cell_type": "code",
   "execution_count": null,
   "metadata": {},
   "outputs": [],
   "source": []
  },
  {
   "cell_type": "code",
   "execution_count": null,
   "metadata": {},
   "outputs": [],
   "source": [
    "file_path = \"../../data/uwb2/uwb2_exp001.csv\"\n",
    "uwb2_exp001, cir, tx_id_uwb, rx_id_uwb, rx_pream_count, fp, rx_lvl, time_stamp, ground_x, ground_y = rti.load_csv_data(file_path, num_CIR_samples)\n",
    "cir_up = rti.upsample_and_align_cir(cir, fp, freq_s_ratio=64)\n",
    "grouped_data_001 = rti.group_data_by_tx_rx(tx_id_uwb, rx_id_uwb, cir, cir_up, rx_pream_count, fp, rx_lvl, time_stamp, ground_x, ground_y)"
   ]
  },
  {
   "cell_type": "code",
   "execution_count": null,
   "metadata": {},
   "outputs": [],
   "source": [
    "file_path = \"../../data/uwb2/uwb2_exp002.csv\"\n",
    "uwb2_exp001, cir, tx_id_uwb, rx_id_uwb, rx_pream_count, fp, rx_lvl, time_stamp, ground_x, ground_y = rti.load_csv_data(file_path, num_CIR_samples, tag_name_left=\"tag4422_\", tag_name_right=\"tag89b3_\")\n",
    "cir_up = rti.upsample_and_align_cir(cir, fp, freq_s_ratio=64)\n",
    "grouped_data = rti.group_data_by_tx_rx(tx_id_uwb, rx_id_uwb, cir, cir_up, rx_pream_count, fp, rx_lvl, time_stamp, ground_x, ground_y)"
   ]
  },
  {
   "cell_type": "code",
   "execution_count": null,
   "metadata": {},
   "outputs": [],
   "source": [
    "from bisect import bisect_left\n",
    "def cal_mag_multipath_component(anchor_pair, mpc_position, grouped_data, start, end, ratio):\n",
    "    positions = mpc_position[anchor_pair]\n",
    "\n",
    "    cir_up = grouped_data[anchor_pair][\"cir_up\"]\n",
    "    cir_up_mean = np.mean(np.abs(cir_up[start:end]),axis=0)\n",
    "    pream_count = np.mean(grouped_data[anchor_pair][\"rx_pream_count\"][start:end])\n",
    "    recei_power_level = np.mean(grouped_data[anchor_pair][\"rx_lvl\"][start:end])\n",
    "\n",
    "    # if cir_up are empty, continue\n",
    "    if len(cir_up) == 0:\n",
    "        return []\n",
    "\n",
    "\n",
    "    mpc_mag = []\n",
    "    for pos in positions:\n",
    "        pos = int(pos / 0.3 * ratio) + 4*ratio\n",
    "        power_of_path = 10*math.log10((cir_up_mean[pos] ** 2 + \n",
    "                            cir_up_mean[pos - ratio] ** 2 + \n",
    "                            cir_up_mean[pos + ratio] ** 2)/(pream_count ** 2)) - 121.74\n",
    "        power_of_path = power_of_path - recei_power_level\n",
    "        mpc_mag.append(power_of_path)\n",
    "    return mpc_mag\n",
    "\n",
    "def find_timestamp_indices(ts, start_time, end_time):\n",
    "    start_idx = bisect_left(ts, start_time)\n",
    "    end_idx = bisect_left(ts, end_time, lo=start_idx)\n",
    "\n",
    "    return start_idx, end_idx\n",
    "\n",
    "def cal_z(anchor_pair_list, mpc_mag_idle, grouped_data, mpc_position, start_time, end_time):\n",
    "    z = []\n",
    "    missing_mpc = []  # List to store anchor_pair with missing mpc_mag_pair\n",
    "\n",
    "    for anchor_pair in anchor_pair_list:\n",
    "        mpc_mag_pair = mpc_mag_idle.get(anchor_pair, [])\n",
    "        \n",
    "        if not mpc_mag_pair:\n",
    "            missing_mpc.append(anchor_pair)  # Save the anchor_pair for later processing\n",
    "            continue\n",
    "\n",
    "        data_pair = grouped_data.get(anchor_pair, {})\n",
    "        ts = data_pair.get(\"time_stamp\", [])\n",
    "\n",
    "        start_idx, end_idx = find_timestamp_indices(ts, start_time, end_time)\n",
    "        mpc_map = cal_mag_multipath_component(anchor_pair, mpc_position, grouped_data, start_idx, end_idx, 64)\n",
    "        z.append(np.abs(np.array(mpc_map) - np.array(mpc_mag_pair)))\n",
    "\n",
    "    return z, missing_mpc  # Return both lists\n",
    "\n",
    "def erase_elements(z, matrix, erase_indices):\n",
    "    # Erase elements from z\n",
    "    new_z = np.delete(z, erase_indices)\n",
    "\n",
    "    # Erase rows from matrix\n",
    "    new_matrix = np.delete(matrix, erase_indices, axis=0)\n",
    "    \n",
    "    return new_z, new_matrix"
   ]
  },
  {
   "cell_type": "code",
   "execution_count": null,
   "metadata": {},
   "outputs": [],
   "source": [
    "start = 54493\n",
    "end = start + 0.2\n",
    "\n",
    "z, missing_mpc = cal_z(anchor_pair_list, mpc_mag_idle, grouped_data, mpc_position, start, end)\n",
    "weight_matrix_np = rti.convert_weight_matrix_to_numpy(weight_matrix,anchor_pair_list,mpc_position,pixel_num_j, missing_mpc)\n",
    "\n",
    "# Flattening the list of arrays and concatenating them into a single 1D array\n",
    "z_flattened = np.concatenate([np.array(array).flatten() for array in z])\n",
    "\n",
    "# z_flattened,weight_matrix_np =  erase_elements(z_flattened,weight_matrix_np,[17,18,19,20,21,22,23,24])\n",
    "\n",
    "rti_matrix = rti.calculate_rti_matrix(weight_matrix_np, regularization_matrix_c)"
   ]
  },
  {
   "cell_type": "code",
   "execution_count": null,
   "metadata": {},
   "outputs": [],
   "source": [
    "z,anchor_pair_list"
   ]
  },
  {
   "cell_type": "code",
   "execution_count": null,
   "metadata": {},
   "outputs": [],
   "source": [
    "\n",
    "\n",
    "\n",
    "# for i in range(len(z_flattened)):\n",
    "#     z_flattened[i] = 0\n",
    "\n",
    "# Keeping track of the original shapes of the arrays\n",
    "original_shapes = [array.shape for array in z]\n",
    "\n",
    "\n",
    "res = np.matmul(rti_matrix,z_flattened)\n",
    "plt.imshow((res).reshape(room_y_len,room_x_len), origin='lower')\n",
    "plt.colorbar()\n",
    "\n",
    "anchor_pair = (0,4)\n",
    "start_index, end_index = rti.find_timestamp_indices(grouped_data[anchor_pair][\"time_stamp\"], start, end)\n",
    "x_pos = grouped_data[anchor_pair_list[0]][\"ground_x\"][start_index:end_index]\n",
    "y_pos = grouped_data[anchor_pair_list[0]][\"ground_y\"][start_index:end_index]\n",
    "plt.plot(x_pos[0] / 0.1, y_pos[0] / 0.1, c='red', marker='o')\n",
    "\n",
    "for p in pos:\n",
    "    plt.plot(p[0]/0.1,p[1]/0.1, c='black', marker='o')"
   ]
  },
  {
   "cell_type": "code",
   "execution_count": null,
   "metadata": {},
   "outputs": [],
   "source": [
    "z"
   ]
  },
  {
   "cell_type": "code",
   "execution_count": null,
   "metadata": {},
   "outputs": [],
   "source": [
    "weight_matrix_np.shape,"
   ]
  },
  {
   "cell_type": "code",
   "execution_count": null,
   "metadata": {},
   "outputs": [],
   "source": []
  },
  {
   "cell_type": "code",
   "execution_count": null,
   "metadata": {},
   "outputs": [],
   "source": [
    "anchor_pair = (2,3)\n",
    "start_index, end_index = rti.find_timestamp_indices(grouped_data[anchor_pair][\"time_stamp\"], start, end)\n",
    "\n",
    "rti.plot_overlayed_weight_matrices(weight_matrix, anchor_pair, room_x_len, room_y_len, grouped_data[anchor_pair][\"ground_x\"][start_index:end_index], grouped_data[anchor_pair][\"ground_y\"][start_index:end_index])\n",
    "# # statistics \n",
    "# rti.plot_cir_lines_with_mpc_mean(grouped_data_001[anchor_pair][\"cir_up\"], anchor_pair, mpc_position, 0, len(grouped_data_001[anchor_pair][\"cir_up\"]))\n",
    "# # real time\n",
    "# rti.plot_cir_lines_with_mpc_mean(grouped_data[anchor_pair][\"cir_up\"], anchor_pair, mpc_position, start, end)\n",
    "\n",
    "# combined\n",
    "rti.plot_2_cir_lines_with_mpc_mean(grouped_data_001[anchor_pair][\"cir_up\"], grouped_data[anchor_pair][\"cir_up\"], anchor_pair, mpc_position, 0, len(grouped_data_001[anchor_pair][\"cir_up\"]), start_index, end_index)\n",
    "\n",
    "\n",
    "# anchor position\n",
    "anchor_pos_0 = mirrored_positions[anchor_pair[0]][0]\n",
    "anchor_pos_1 = mirrored_positions[anchor_pair[1]][0]\n",
    "\n",
    "# mean postion of tag   \n",
    "tag_pos = (\n",
    "    np.mean(grouped_data[anchor_pair][\"ground_x\"][start_index:end_index]),\n",
    "    np.mean(grouped_data[anchor_pair][\"ground_y\"][start_index:end_index]))\n",
    "\n",
    "# distance to anchor\n",
    "rti.cal_distance(tag_pos, anchor_pos_0) + rti.cal_distance(tag_pos, anchor_pos_1) - rti.cal_distance(anchor_pos_0, anchor_pos_1)"
   ]
  },
  {
   "cell_type": "code",
   "execution_count": null,
   "metadata": {},
   "outputs": [],
   "source": [
    "z_flattened,original_shapes,anchor_pair_list"
   ]
  },
  {
   "cell_type": "code",
   "execution_count": null,
   "metadata": {},
   "outputs": [],
   "source": []
  }
 ],
 "metadata": {
  "kernelspec": {
   "display_name": "ipl",
   "language": "python",
   "name": "python3"
  },
  "language_info": {
   "codemirror_mode": {
    "name": "ipython",
    "version": 3
   },
   "file_extension": ".py",
   "mimetype": "text/x-python",
   "name": "python",
   "nbconvert_exporter": "python",
   "pygments_lexer": "ipython3",
   "version": "3.11.4"
  },
  "orig_nbformat": 4
 },
 "nbformat": 4,
 "nbformat_minor": 2
}
